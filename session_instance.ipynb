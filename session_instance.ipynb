{
  "nbformat": 4,
  "nbformat_minor": 0,
  "metadata": {
    "colab": {
      "name": "session_instance.ipynb",
      "provenance": [],
      "collapsed_sections": [],
      "include_colab_link": true
    },
    "kernelspec": {
      "name": "python3",
      "display_name": "Python 3"
    }
  },
  "cells": [
    {
      "cell_type": "markdown",
      "metadata": {
        "id": "view-in-github",
        "colab_type": "text"
      },
      "source": [
        "<a href=\"https://colab.research.google.com/github/tajiriy/Hello-World/blob/master/session_instance.ipynb\" target=\"_parent\"><img src=\"https://colab.research.google.com/assets/colab-badge.svg\" alt=\"Open In Colab\"/></a>"
      ]
    },
    {
      "cell_type": "markdown",
      "metadata": {
        "id": "Dx7-urn4A9UE",
        "colab_type": "text"
      },
      "source": [
        "# ●セッションとインスタンス\n",
        "12時間ルールに対応するために、インスタンス起動時からの経過時間を把握しましょう。"
      ]
    },
    {
      "cell_type": "markdown",
      "metadata": {
        "id": "HeKVJz6gB-n0",
        "colab_type": "text"
      },
      "source": [
        "## ●経過時間の表示\n",
        "以下コマンドで、インスタンス起動時からの経過時間を表示することができます。"
      ]
    },
    {
      "cell_type": "code",
      "metadata": {
        "id": "tlEJ7RmTy7g4",
        "colab_type": "code",
        "colab": {
          "base_uri": "https://localhost:8080/",
          "height": 34
        },
        "outputId": "ffb8b6bf-c66a-4c62-f230-6b45ef8e306a"
      },
      "source": [
        "!cat /proc/uptime | awk '{print $1/60/60 \"h\"}'"
      ],
      "execution_count": 1,
      "outputs": [
        {
          "output_type": "stream",
          "text": [
            "1.00347h\n"
          ],
          "name": "stdout"
        }
      ]
    },
    {
      "cell_type": "markdown",
      "metadata": {
        "id": "c6rSvyuxHwDL",
        "colab_type": "text"
      },
      "source": [
        "この時間が12時間を超えると、インスタンスが一旦リセットされます。"
      ]
    },
    {
      "cell_type": "code",
      "metadata": {
        "id": "WnaxEukOlIW4",
        "colab_type": "code",
        "colab": {
          "base_uri": "https://localhost:8080/",
          "height": 34
        },
        "outputId": "382b1e93-a8e7-4d0f-fd8e-dabf041ab93f"
      },
      "source": [
        "!cat /proc/uptime"
      ],
      "execution_count": 2,
      "outputs": [
        {
          "output_type": "stream",
          "text": [
            "3634.17 7207.25\n"
          ],
          "name": "stdout"
        }
      ]
    },
    {
      "cell_type": "code",
      "metadata": {
        "id": "whxJax7nlJ-F",
        "colab_type": "code",
        "colab": {
          "base_uri": "https://localhost:8080/",
          "height": 629
        },
        "outputId": "38e3fae3-2da0-4296-e550-e31744b87bab"
      },
      "source": [
        "!ls /etc/"
      ],
      "execution_count": 3,
      "outputs": [
        {
          "output_type": "stream",
          "text": [
            "adduser.conf\t\tgtk-2.0\t\t mime.types\t  rc3.d\n",
            "alternatives\t\tgtk-3.0\t\t mke2fs.conf\t  rc4.d\n",
            "apparmor.d\t\thost.conf\t modprobe.d\t  rc5.d\n",
            "apt\t\t\thostname\t modules\t  rc6.d\n",
            "bash.bashrc\t\thosts\t\t modules-load.d   rcS.d\n",
            "bash_completion.d\thosts.allow\t mtab\t\t  resolv.conf\n",
            "bindresvport.blacklist\thosts.deny\t mysql\t\t  rmt\n",
            "binfmt.d\t\tinit.d\t\t networks\t  securetty\n",
            "ca-certificates\t\tinputrc\t\t nsswitch.conf\t  security\n",
            "ca-certificates.conf\tipython\t\t ODBCDataSources  selinux\n",
            "calendar\t\tissue\t\t odbc.ini\t  sensors3.conf\n",
            "cron.daily\t\tissue.net\t odbcinst.ini\t  sensors.d\n",
            "cron.weekly\t\tjava-11-openjdk  openal\t\t  shadow\n",
            "dbus-1\t\t\tjava-8-openjdk\t OpenCL\t\t  shadow-\n",
            "debconf.conf\t\tjupyter\t\t openmpi\t  shells\n",
            "debian_version\t\tkernel\t\t opt\t\t  skel\n",
            "default\t\t\tldap\t\t os-release\t  ssh\n",
            "deluser.conf\t\tld.so.cache\t pam.conf\t  ssl\n",
            "depmod.d\t\tld.so.conf\t pam.d\t\t  subgid\n",
            "dhcp\t\t\tld.so.conf.d\t papersize\t  subuid\n",
            "dkms\t\t\tlegal\t\t passwd\t\t  sudoers\n",
            "dpkg\t\t\tlibaudit.conf\t passwd-\t  sudoers.d\n",
            "emacs\t\t\tlibibverbs.d\t perl\t\t  sysctl.conf\n",
            "environment\t\tlibnl-3\t\t pip.conf\t  sysctl.d\n",
            "ffserver.conf\t\tlibpaper.d\t polkit-1\t  systemd\n",
            "fonts\t\t\tlocale.alias\t profile\t  terminfo\n",
            "fstab\t\t\tlocale.gen\t profile.d\t  timezone\n",
            "fuse.conf\t\tlocaltime\t pulse\t\t  tmpfiles.d\n",
            "gai.conf\t\tlogcheck\t python\t\t  ucf.conf\n",
            "glvnd\t\t\tlogin.defs\t python2.7\t  udev\n",
            "groff\t\t\tlogrotate.d\t python3\t  update-motd.d\n",
            "group\t\t\tlsb-release\t python3.6\t  vdpau_wrapper.cfg\n",
            "group-\t\t\tmachine-id\t R\t\t  wgetrc\n",
            "gshadow\t\t\tmailcap\t\t rc0.d\t\t  X11\n",
            "gshadow-\t\tmailcap.order\t rc1.d\t\t  xdg\n",
            "gss\t\t\tmanpath.config\t rc2.d\n"
          ],
          "name": "stdout"
        }
      ]
    },
    {
      "cell_type": "code",
      "metadata": {
        "id": "pj2IAf44lP5U",
        "colab_type": "code",
        "colab": {
          "base_uri": "https://localhost:8080/",
          "height": 221
        },
        "outputId": "94f465d3-4c2b-41c8-ee44-367aa2b167d6"
      },
      "source": [
        "!cat /etc/os-release"
      ],
      "execution_count": 4,
      "outputs": [
        {
          "output_type": "stream",
          "text": [
            "NAME=\"Ubuntu\"\n",
            "VERSION=\"18.04.3 LTS (Bionic Beaver)\"\n",
            "ID=ubuntu\n",
            "ID_LIKE=debian\n",
            "PRETTY_NAME=\"Ubuntu 18.04.3 LTS\"\n",
            "VERSION_ID=\"18.04\"\n",
            "HOME_URL=\"https://www.ubuntu.com/\"\n",
            "SUPPORT_URL=\"https://help.ubuntu.com/\"\n",
            "BUG_REPORT_URL=\"https://bugs.launchpad.net/ubuntu/\"\n",
            "PRIVACY_POLICY_URL=\"https://www.ubuntu.com/legal/terms-and-policies/privacy-policy\"\n",
            "VERSION_CODENAME=bionic\n",
            "UBUNTU_CODENAME=bionic\n"
          ],
          "name": "stdout"
        }
      ]
    },
    {
      "cell_type": "code",
      "metadata": {
        "id": "e-E7EYExlUiR",
        "colab_type": "code",
        "colab": {}
      },
      "source": [
        ""
      ],
      "execution_count": 0,
      "outputs": []
    }
  ]
}